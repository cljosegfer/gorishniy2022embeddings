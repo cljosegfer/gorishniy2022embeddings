{
 "cells": [
  {
   "cell_type": "markdown",
   "metadata": {},
   "source": [
    "# setup"
   ]
  },
  {
   "cell_type": "code",
   "execution_count": 1,
   "metadata": {},
   "outputs": [],
   "source": [
    "import torch\n",
    "import torch.nn as nn\n",
    "import torch.optim as optim\n",
    "\n",
    "from torch.utils.data import Dataset, DataLoader\n",
    "\n",
    "import numpy as np\n",
    "import matplotlib.pyplot as plt\n",
    "from sklearn.preprocessing import StandardScaler\n",
    "\n",
    "from tqdm import tqdm\n",
    "\n",
    "from tab_transformer_pytorch.ft_transformer import FTTransformer"
   ]
  },
  {
   "cell_type": "code",
   "execution_count": 2,
   "metadata": {},
   "outputs": [],
   "source": [
    "DEVICE = torch.device(\"cuda:0\" if torch.cuda.is_available() else \"cpu\")"
   ]
  },
  {
   "cell_type": "markdown",
   "metadata": {},
   "source": [
    "# data"
   ]
  },
  {
   "cell_type": "code",
   "execution_count": 3,
   "metadata": {},
   "outputs": [],
   "source": [
    "class tabular(Dataset):\n",
    "    def __init__(self, X, y):\n",
    "        self.X = torch.from_numpy(X)\n",
    "        self.y = torch.from_numpy(y.reshape(-1, 1))\n",
    "    \n",
    "    def __len__(self):\n",
    "        return self.X.shape[0]\n",
    "    \n",
    "    def __getitem__(self, idx):\n",
    "        return self.X[idx, :], self.y[idx, :].float()"
   ]
  },
  {
   "cell_type": "code",
   "execution_count": 4,
   "metadata": {},
   "outputs": [],
   "source": [
    "ds = 'higgs_small'\n",
    "\n",
    "X_train = np.load('data/{}/N_train.npy'.format(ds))\n",
    "y_train = np.load('data/{}/y_train.npy'.format(ds))\n",
    "X_val = np.load('data/{}/N_val.npy'.format(ds))\n",
    "y_val = np.load('data/{}/y_val.npy'.format(ds))\n",
    "X_test = np.load('data/{}/N_test.npy'.format(ds))\n",
    "y_test = np.load('data/{}/y_test.npy'.format(ds))"
   ]
  },
  {
   "cell_type": "code",
   "execution_count": 5,
   "metadata": {},
   "outputs": [],
   "source": [
    "# sim, esse puto me deu um ds com nan\n",
    "nan, _ = np.where(np.isnan(X_train))\n",
    "X_train = np.delete(X_train, nan, axis = 0)\n",
    "y_train = np.delete(y_train, nan, axis = 0)"
   ]
  },
  {
   "cell_type": "code",
   "execution_count": 6,
   "metadata": {},
   "outputs": [],
   "source": [
    "scaler = StandardScaler()\n",
    "scaler.fit(X_train);\n",
    "X_train = scaler.transform(X_train)\n",
    "X_val = scaler.transform(X_val)\n",
    "X_test = scaler.transform(X_test)"
   ]
  },
  {
   "cell_type": "code",
   "execution_count": 7,
   "metadata": {},
   "outputs": [],
   "source": [
    "train_set = tabular(X_train, y_train)\n",
    "val_set = tabular(X_val, y_val)\n",
    "test_set = tabular(X_test, y_test)"
   ]
  },
  {
   "cell_type": "markdown",
   "metadata": {},
   "source": [
    "# train"
   ]
  },
  {
   "cell_type": "code",
   "execution_count": 26,
   "metadata": {},
   "outputs": [],
   "source": [
    "def train(model, loader, optimizer, criterion):\n",
    "    model.train()\n",
    "    cost = 0\n",
    "    for x, y in loader:\n",
    "        x, y = x.to(DEVICE), y.to(DEVICE)\n",
    "        yhat = model.forward(np.zeros(0), x)\n",
    "        # yhat = model.forward(np.zeros(0), encoder.forward(x))\n",
    "        yhat = torch.sigmoid(yhat)\n",
    "        loss = criterion(yhat, y)\n",
    "\n",
    "        optimizer.zero_grad()\n",
    "        loss.backward()\n",
    "        optimizer.step()\n",
    "\n",
    "        cost += loss.item() * x.shape[0]\n",
    "    return cost / loader.dataset.__len__()"
   ]
  },
  {
   "cell_type": "code",
   "execution_count": 27,
   "metadata": {},
   "outputs": [],
   "source": [
    "def eval(model, loader, criterion):\n",
    "    model.eval()\n",
    "    cost = 0\n",
    "    for x, y in loader:\n",
    "        x, y = x.to(DEVICE), y.to(DEVICE)\n",
    "        yhat = model.forward(np.zeros(0), x)\n",
    "        # yhat = model.forward(np.zeros(0), encoder.forward(x))\n",
    "        yhat = torch.sigmoid(yhat)\n",
    "        yhat = torch.round(yhat)\n",
    "        loss = criterion(yhat, y)\n",
    "\n",
    "        cost += loss.item() * x.shape[0]\n",
    "    return cost / loader.dataset.__len__()"
   ]
  },
  {
   "cell_type": "code",
   "execution_count": 28,
   "metadata": {},
   "outputs": [],
   "source": [
    "hidden = 128\n",
    "p = train_set.X.shape[1]\n",
    "\n",
    "model = FTTransformer(\n",
    "    categories = (),      # tuple containing the number of unique values within each category\n",
    "    num_continuous = p,                # number of continuous values\n",
    "    dim = hidden,                           # dimension, paper set at 32\n",
    "    dim_out = train_set.y.shape[1],                        # binary prediction, but could be anything\n",
    "    depth = 6,                          # depth, paper recommended 6\n",
    "    heads = 8,                          # heads, paper recommends 8\n",
    "    attn_dropout = 0.1,                 # post-attention dropout\n",
    "    ff_dropout = 0.1                    # feed forward dropout\n",
    ").to(DEVICE)"
   ]
  },
  {
   "cell_type": "code",
   "execution_count": 29,
   "metadata": {},
   "outputs": [],
   "source": [
    "btsz = 512\n",
    "lr = 1e-3\n",
    "l2 = 1e-4\n",
    "epochs = 100\n",
    "\n",
    "optimizer = optim.Adam(model.parameters(), lr = lr, weight_decay = l2)\n",
    "criterion = nn.BCEWithLogitsLoss()"
   ]
  },
  {
   "cell_type": "code",
   "execution_count": 30,
   "metadata": {},
   "outputs": [],
   "source": [
    "train_loader = DataLoader(train_set, batch_size = btsz, shuffle = True)\n",
    "val_loader = DataLoader(val_set, batch_size = btsz)\n",
    "\n",
    "log = []"
   ]
  },
  {
   "cell_type": "code",
   "execution_count": 42,
   "metadata": {},
   "outputs": [
    {
     "name": "stderr",
     "output_type": "stream",
     "text": [
      "100%|██████████| 100/100 [11:28<00:00,  6.89s/it]\n"
     ]
    },
    {
     "data": {
      "image/png": "[encoded data removed]",
      "text/plain": [
       "<Figure size 640x480 with 1 Axes>"
      ]
     },
     "metadata": {},
     "output_type": "display_data"
    }
   ],
   "source": [
    "for epoch in tqdm(range(epochs)):\n",
    "    loss_train = train(model, train_loader, optimizer, criterion)\n",
    "\n",
    "    loss_val = eval(model, val_loader, criterion)\n",
    "    # print(loss_train, loss_val)\n",
    "    log.append([loss_train, loss_val])\n",
    "plt.plot(log);"
   ]
  },
  {
   "cell_type": "code",
   "execution_count": 43,
   "metadata": {},
   "outputs": [
    {
     "data": {
      "text/plain": [
       "0.7049974501984027"
      ]
     },
     "execution_count": 43,
     "metadata": {},
     "output_type": "execute_result"
    }
   ],
   "source": [
    "acc = nn.L1Loss()\n",
    "\n",
    "test_loader = DataLoader(test_set, batch_size = btsz)\n",
    "1 - eval(model, test_loader, acc)"
   ]
  },
  {
   "cell_type": "code",
   "execution_count": null,
   "metadata": {},
   "outputs": [],
   "source": []
  }
 ],
 "metadata": {
  "kernelspec": {
   "display_name": "tabular",
   "language": "python",
   "name": "python3"
  },
  "language_info": {
   "codemirror_mode": {
    "name": "ipython",
    "version": 3
   },
   "file_extension": ".py",
   "mimetype": "text/x-python",
   "name": "python",
   "nbconvert_exporter": "python",
   "pygments_lexer": "ipython3",
   "version": "3.8.8"
  },
  "orig_nbformat": 4
 },
 "nbformat": 4,
 "nbformat_minor": 2
}
